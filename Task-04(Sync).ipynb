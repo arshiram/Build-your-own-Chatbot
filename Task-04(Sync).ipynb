{
 "cells": [
  {
   "cell_type": "markdown",
   "id": "869e73be",
   "metadata": {},
   "source": [
    "# ARSHIYA IRAM AQUEEL AHMED\n",
    "### Python INTERN @ Synce Interns ¶\n",
    "## TASK-FOUR....Build your own Chatbot"
   ]
  },
  {
   "cell_type": "code",
   "execution_count": 1,
   "id": "df1c40e9",
   "metadata": {},
   "outputs": [],
   "source": [
    "import nltk"
   ]
  },
  {
   "cell_type": "code",
   "execution_count": 2,
   "id": "fac34157",
   "metadata": {},
   "outputs": [
    {
     "name": "stderr",
     "output_type": "stream",
     "text": [
      "[nltk_data] Downloading package punkt to /home/arshiya/nltk_data...\n",
      "[nltk_data]   Package punkt is already up-to-date!\n",
      "[nltk_data] Downloading package wordnet to /home/arshiya/nltk_data...\n",
      "[nltk_data]   Package wordnet is already up-to-date!\n"
     ]
    },
    {
     "data": {
      "text/plain": [
       "True"
      ]
     },
     "execution_count": 2,
     "metadata": {},
     "output_type": "execute_result"
    }
   ],
   "source": [
    "nltk.download('punkt')\n",
    "nltk.download('wordnet')"
   ]
  },
  {
   "cell_type": "code",
   "execution_count": null,
   "id": "4527f11a",
   "metadata": {},
   "outputs": [
    {
     "name": "stdout",
     "output_type": "stream",
     "text": [
      ">Hello!\n",
      "Hi there!\n",
      ">how are you\n",
      "I am great, thanks for asking!\n",
      ">bye\n",
      "Goodbye!\n"
     ]
    }
   ],
   "source": [
    "from nltk.chat.util import Chat, reflections\n",
    "\n",
    "pairs = [\n",
    "    ['hi|hello|hey', ['Hello!', 'Hi there!']],\n",
    "    ['how are you', ['I am doing well, thank you!', 'I am great, thanks for asking!']],\n",
    "    ['bye|goodbye', ['Goodbye!', 'See you later!']]\n",
    "]\n",
    "\n",
    "chatbot = Chat(pairs, reflections)\n",
    "\n",
    "chatbot.converse()"
   ]
  },
  {
   "cell_type": "code",
   "execution_count": null,
   "id": "a6d3e987",
   "metadata": {},
   "outputs": [],
   "source": []
  }
 ],
 "metadata": {
  "kernelspec": {
   "display_name": "Python 3 (ipykernel)",
   "language": "python",
   "name": "python3"
  },
  "language_info": {
   "codemirror_mode": {
    "name": "ipython",
    "version": 3
   },
   "file_extension": ".py",
   "mimetype": "text/x-python",
   "name": "python",
   "nbconvert_exporter": "python",
   "pygments_lexer": "ipython3",
   "version": "3.9.12"
  }
 },
 "nbformat": 4,
 "nbformat_minor": 5
}
